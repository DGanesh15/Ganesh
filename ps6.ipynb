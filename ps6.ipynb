{
  "nbformat": 4,
  "nbformat_minor": 0,
  "metadata": {
    "colab": {
      "provenance": [],
      "authorship_tag": "ABX9TyMbs0aCJSDWu96ftSB0w1lB",
      "include_colab_link": true
    },
    "kernelspec": {
      "name": "python3",
      "display_name": "Python 3"
    },
    "language_info": {
      "name": "python"
    }
  },
  "cells": [
    {
      "cell_type": "markdown",
      "metadata": {
        "id": "view-in-github",
        "colab_type": "text"
      },
      "source": [
        "<a href=\"https://colab.research.google.com/github/DGanesh15/Ganesh/blob/master/ps6.ipynb\" target=\"_parent\"><img src=\"https://colab.research.google.com/assets/colab-badge.svg\" alt=\"Open In Colab\"/></a>"
      ]
    },
    {
      "cell_type": "code",
      "execution_count": 5,
      "metadata": {
        "colab": {
          "base_uri": "https://localhost:8080/"
        },
        "id": "71NLYLcTGemh",
        "outputId": "f063f509-dede-4bb2-f49a-09795c899b8d"
      },
      "outputs": [
        {
          "output_type": "stream",
          "name": "stdout",
          "text": [
            "2 3\n",
            "5\n",
            "4\n",
            "7\n",
            "8\n",
            "4\n",
            "2 1\n",
            "5\n",
            "5\n",
            "10\n",
            "0 0\n",
            "11\n",
            "Loowater is doomed!\n"
          ]
        }
      ],
      "source": [
        "# Function to solve the Loowater problem\n",
        "def solve_loowater(input_data):\n",
        "    results = []  # List to store results for each test case\n",
        "    data = input_data.strip().split(\"\\n\")  # Split input data into lines\n",
        "    i = 0  # Pointer to iterate through the input data\n",
        "\n",
        "    while i < len(data):\n",
        "        # Read the number of heads and knights\n",
        "        num_heads, num_knights = map(int, data[i].split())\n",
        "        if num_heads == 0 and num_knights == 0:  # Termination condition\n",
        "            break\n",
        "        i += 1\n",
        "\n",
        "        # Read the diameters of the dragon's heads\n",
        "        heads = [int(data[i + j]) for j in range(num_heads)]\n",
        "        i += num_heads  # Move pointer past the head diameters\n",
        "\n",
        "        # Read the heights of the knights\n",
        "        knights = [int(data[i + j]) for j in range(num_knights)]\n",
        "        i += num_knights  # Move pointer past the knight heights\n",
        "\n",
        "        # Sort both heads and knights in ascending order\n",
        "        # This allows us to use a greedy approach to minimize cost\n",
        "        heads.sort()\n",
        "        knights.sort()\n",
        "\n",
        "        # Initialize indices and cost\n",
        "        head_index = 0  # Pointer for dragon heads\n",
        "        knight_index = 0  # Pointer for knights\n",
        "        total_cost = 0  # Total cost of hiring knights\n",
        "\n",
        "        # Try to assign knights to chop off the dragon heads\n",
        "        while head_index < len(heads) and knight_index < len(knights):\n",
        "            if knights[knight_index] >= heads[head_index]:  # Can this knight chop the current head?\n",
        "                total_cost += knights[knight_index]  # Add the knight's height to the cost\n",
        "                head_index += 1  # Move to the next head\n",
        "            knight_index += 1  # Move to the next knight (regardless of success)\n",
        "\n",
        "        # Check if all dragon heads are chopped off\n",
        "        if head_index == len(heads):  # If all heads are defeated\n",
        "            results.append(str(total_cost))  # Append the total cost to results\n",
        "        else:\n",
        "            results.append(\"Loowater is doomed!\")  # If any head is left, it's impossible to win\n",
        "\n",
        "    return results  # Return the results for all test cases\n",
        "\n",
        "\n",
        "# Main function to handle input and output\n",
        "def main():\n",
        "    input_lines = []  # List to store input lines\n",
        "    while True:\n",
        "        line = input()  # Read a line of input\n",
        "        if line.strip() == \"0 0\":  # Termination condition\n",
        "            input_lines.append(line)  # Include the \"0 0\" in the input\n",
        "            break\n",
        "        input_lines.append(line)  # Add the line to input lines\n",
        "\n",
        "    # Combine all input lines into a single string\n",
        "    input_data = \"\\n\".join(input_lines)\n",
        "    # Solve the problem using the input data\n",
        "    results = solve_loowater(input_data)\n",
        "    # Print the results for all test cases\n",
        "    print(\"\\n\".join(results))\n",
        "\n",
        "\n",
        "# Execute the program only if this script is run directly\n",
        "if __name__ == \"__main__\":\n",
        "    main()\n"
      ]
    }
  ]
}